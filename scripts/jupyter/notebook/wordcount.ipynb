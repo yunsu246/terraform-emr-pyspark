{
 "cells": [
  {
   "cell_type": "code",
   "execution_count": 1,
   "id": "c3742f5a",
   "metadata": {},
   "outputs": [
    {
     "name": "stdout",
     "output_type": "stream",
     "text": [
      "env: CONDA_DLL_SEARCH_MODIFICATION_ENABLE=1\n",
      "SPARK_PATH: C:\\big-data\\spark-2.4.7-bin-hadoop2.7\n"
     ]
    }
   ],
   "source": [
    "# Correct packages in Virtual-Env not found error\n",
    "%env CONDA_DLL_SEARCH_MODIFICATION_ENABLE=1\n",
    "\n",
    "import sys\n",
    "import findspark\n",
    "findspark.init() #  SPARK_HOME 환경변수 경로에 따라 spark 실행\n",
    "print(f'SPARK_PATH: {findspark.find()}')\n",
    "\n",
    "import datetime as dt\n",
    "from functools import reduce\n",
    "import numpy as np\n",
    "import pandas as pd\n",
    "import pyspark\n",
    "from pyspark import StorageLevel\n",
    "from pyspark.sql import SparkSession\n",
    "from pyspark.sql import Window\n",
    "import pyspark.sql.functions as func\n",
    "\n",
    "import os\n",
    "import glob"
   ]
  },
  {
   "cell_type": "code",
   "execution_count": 2,
   "id": "baa96d63",
   "metadata": {},
   "outputs": [],
   "source": [
    "import sys\n",
    "from operator import add\n",
    "\n",
    "from pyspark.sql import SparkSession\n",
    "\n",
    "\n",
    "if __name__ == \"__main__\":\n",
    "    if len(sys.argv) != 2:\n",
    "        print(\"Usage: wordcount <file>\", file=sys.stderr)\n",
    "        sys.exit(-1)\n",
    "\n",
    "    spark = SparkSession\\\n",
    "        .builder\\\n",
    "        .appName(\"PythonWordCount\")\\\n",
    "        .getOrCreate()\n",
    "\n",
    "    lines = spark.read.text(sys.argv[1]).rdd.map(lambda r: r[0])\n",
    "    counts = lines.flatMap(lambda x: x.split(' ')) \\\n",
    "                  .map(lambda x: (x, 1)) \\\n",
    "                  .reduceByKey(add)\n",
    "    output = counts.collect()\n",
    "    for (word, count) in output:\n",
    "        print(\"%s: %i\" % (word, count))\n",
    "\n",
    "    spark.stop()"
   ]
  }
 ],
 "metadata": {
  "kernelspec": {
   "display_name": "Python (dataflow-mc3)",
   "language": "python",
   "name": "dataflow-mc3"
  },
  "language_info": {
   "codemirror_mode": {
    "name": "ipython",
    "version": 3
   },
   "file_extension": ".py",
   "mimetype": "text/x-python",
   "name": "python",
   "nbconvert_exporter": "python",
   "pygments_lexer": "ipython3",
   "version": "3.7.10"
  }
 },
 "nbformat": 4,
 "nbformat_minor": 5
}